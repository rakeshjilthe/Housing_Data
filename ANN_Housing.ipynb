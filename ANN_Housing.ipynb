{
 "cells": [
  {
   "cell_type": "markdown",
   "id": "8db7ae85",
   "metadata": {},
   "source": [
    "# ANN for Housing Data Regression"
   ]
  },
  {
   "cell_type": "code",
   "execution_count": 1,
   "id": "7c466e05",
   "metadata": {},
   "outputs": [],
   "source": [
    "import numpy as np\n",
    "import pandas as pd\n",
    "import matplotlib.pyplot as plt\n",
    "\n",
    "%matplotlib inline"
   ]
  },
  {
   "cell_type": "code",
   "execution_count": 2,
   "id": "e962c26d",
   "metadata": {},
   "outputs": [],
   "source": [
    "import tensorflow as tf\n",
    "from tensorflow import keras"
   ]
  },
  {
   "cell_type": "code",
   "execution_count": 3,
   "id": "87806953",
   "metadata": {},
   "outputs": [],
   "source": [
    "from sklearn.datasets import fetch_california_housing\n",
    "housing = fetch_california_housing()"
   ]
  },
  {
   "cell_type": "markdown",
   "id": "a974083a",
   "metadata": {},
   "source": [
    "## Dataset Characteristics\n",
    "\n",
    "#### Number of Instances:\n",
    "20640\n",
    "\n",
    "#### Number of Attributes:\n",
    "8 numeric, predictive attributes and the target\n",
    "\n",
    "#### Attributes Information:\n",
    "- MedInc median income in block\n",
    "- HouseAge median house age in block\n",
    "- AveRooms average numbers of rooms\n",
    "- AveBedrooms average numbers of bedrooms\n",
    "- Population block population\n",
    "- AveOccup average house occupancy\n",
    "- Lattitude house block lattitude\n",
    "- Longitude house block longitude\n",
    "\n",
    "#### Target\n",
    "The target variable is the median house value in units of 100,000 for California districts.\n",
    "\n",
    "#### Documentation\n",
    "https://scikit-learn.org/stable/modules/generated/sklearn.datasets.fetch_california_housing.html"
   ]
  },
  {
   "cell_type": "code",
   "execution_count": 4,
   "id": "eb1f9d53",
   "metadata": {},
   "outputs": [
    {
     "name": "stdout",
     "output_type": "stream",
     "text": [
      "['MedInc', 'HouseAge', 'AveRooms', 'AveBedrms', 'Population', 'AveOccup', 'Latitude', 'Longitude']\n"
     ]
    }
   ],
   "source": [
    "print(housing.feature_names)"
   ]
  },
  {
   "cell_type": "markdown",
   "id": "bb68f5be",
   "metadata": {},
   "source": [
    "### Splitting the data into Train/Validation/Test datasets"
   ]
  },
  {
   "cell_type": "markdown",
   "id": "c420c30d",
   "metadata": {},
   "source": [
    "- Training Data --- used for training the model.\n",
    "- Validation Data --- used for tuning the hyperparameters and evaluate the models.\n",
    "- Test Data --- used to test the model after model has gone through initial vetting by the validation set."
   ]
  },
  {
   "cell_type": "code",
   "execution_count": 5,
   "id": "d52de148",
   "metadata": {},
   "outputs": [],
   "source": [
    "from sklearn.model_selection import train_test_split\n",
    "x_train_full, x_test, y_train_full, y_test = train_test_split(housing.data, housing.target, random_state = 42)\n",
    "x_train, x_valid, y_train, y_valid = train_test_split(x_train_full, y_train_full, random_state = 42)"
   ]
  },
  {
   "cell_type": "markdown",
   "id": "7a81de07",
   "metadata": {},
   "source": [
    "### Standardizing the dataset"
   ]
  },
  {
   "cell_type": "code",
   "execution_count": 6,
   "id": "455800b6",
   "metadata": {},
   "outputs": [],
   "source": [
    "from sklearn.preprocessing import StandardScaler\n",
    "scaler = StandardScaler()\n",
    "x_train = scaler.fit_transform(x_train)\n",
    "x_valid = scaler.transform(x_valid)\n",
    "x_test = scaler.transform(x_test)"
   ]
  },
  {
   "cell_type": "code",
   "execution_count": 7,
   "id": "b0b6c267",
   "metadata": {},
   "outputs": [],
   "source": [
    "np.random.seed(42)\n",
    "tf.random.set_seed(42)"
   ]
  },
  {
   "cell_type": "code",
   "execution_count": 8,
   "id": "efa111eb",
   "metadata": {},
   "outputs": [
    {
     "data": {
      "text/plain": [
       "(11610, 8)"
      ]
     },
     "execution_count": 8,
     "metadata": {},
     "output_type": "execute_result"
    }
   ],
   "source": [
    "x_train.shape"
   ]
  },
  {
   "cell_type": "markdown",
   "id": "9617de53",
   "metadata": {},
   "source": [
    "![image](https://miro.medium.com/max/1838/1*Gh5PS4R_A5drl5ebd_gNrg@2x.png)"
   ]
  },
  {
   "cell_type": "markdown",
   "id": "6b038741",
   "metadata": {},
   "source": [
    "### Create Neural Network using Sequential Model API"
   ]
  },
  {
   "cell_type": "code",
   "execution_count": 9,
   "id": "117783b5",
   "metadata": {},
   "outputs": [],
   "source": [
    "model = keras.models.Sequential([\n",
    "    keras.layers.Dense(30, activation = \"relu\", input_shape = [8]),\n",
    "    keras.layers.Dense(30, activation = \"relu\"),\n",
    "    keras.layers.Dense(1)\n",
    "])\n",
    "\n",
    "# keras.layers.Dense(30, activation = \"relu\", input_shape = X_train.shape[1:])"
   ]
  },
  {
   "cell_type": "code",
   "execution_count": 10,
   "id": "0bebcfe2",
   "metadata": {},
   "outputs": [
    {
     "name": "stdout",
     "output_type": "stream",
     "text": [
      "Model: \"sequential\"\n",
      "_________________________________________________________________\n",
      "Layer (type)                 Output Shape              Param #   \n",
      "=================================================================\n",
      "dense (Dense)                (None, 30)                270       \n",
      "_________________________________________________________________\n",
      "dense_1 (Dense)              (None, 30)                930       \n",
      "_________________________________________________________________\n",
      "dense_2 (Dense)              (None, 1)                 31        \n",
      "=================================================================\n",
      "Total params: 1,231\n",
      "Trainable params: 1,231\n",
      "Non-trainable params: 0\n",
      "_________________________________________________________________\n"
     ]
    }
   ],
   "source": [
    "model.summary()"
   ]
  },
  {
   "cell_type": "markdown",
   "id": "3af84520",
   "metadata": {},
   "source": [
    "### Compiling Model"
   ]
  },
  {
   "cell_type": "code",
   "execution_count": 11,
   "id": "2aab24cb",
   "metadata": {},
   "outputs": [],
   "source": [
    "model.compile(loss = \"mean_squared_error\",\n",
    "             optimizer = keras.optimizers.SGD(lr = 1e-3),\n",
    "             metrics = [\"mae\"])"
   ]
  },
  {
   "cell_type": "code",
   "execution_count": 12,
   "id": "b4196219",
   "metadata": {},
   "outputs": [
    {
     "name": "stdout",
     "output_type": "stream",
     "text": [
      "Epoch 1/20\n",
      "  1/363 [..............................] - ETA: 0s - loss: 7.8215 - mae: 2.5816WARNING:tensorflow:Callbacks method `on_train_batch_begin` is slow compared to the batch time (batch time: 0.0000s vs `on_train_batch_begin` time: 0.0010s). Check your callbacks.\n",
      "363/363 [==============================] - 0s 853us/step - loss: 1.8866 - mae: 0.9900 - val_loss: 0.7126 - val_mae: 0.6368\n",
      "Epoch 2/20\n",
      "363/363 [==============================] - 0s 569us/step - loss: 0.6577 - mae: 0.6042 - val_loss: 0.6880 - val_mae: 0.5704\n",
      "Epoch 3/20\n",
      "363/363 [==============================] - 0s 569us/step - loss: 0.5934 - mae: 0.5618 - val_loss: 0.5803 - val_mae: 0.5352\n",
      "Epoch 4/20\n",
      "363/363 [==============================] - 0s 585us/step - loss: 0.5557 - mae: 0.5398 - val_loss: 0.5166 - val_mae: 0.5207\n",
      "Epoch 5/20\n",
      "363/363 [==============================] - 0s 571us/step - loss: 0.5272 - mae: 0.5237 - val_loss: 0.4895 - val_mae: 0.5022\n",
      "Epoch 6/20\n",
      "363/363 [==============================] - 0s 588us/step - loss: 0.5033 - mae: 0.5113 - val_loss: 0.4951 - val_mae: 0.4934\n",
      "Epoch 7/20\n",
      "363/363 [==============================] - 0s 588us/step - loss: 0.4854 - mae: 0.5010 - val_loss: 0.4861 - val_mae: 0.4838\n",
      "Epoch 8/20\n",
      "363/363 [==============================] - 0s 587us/step - loss: 0.4709 - mae: 0.4924 - val_loss: 0.4554 - val_mae: 0.4753\n",
      "Epoch 9/20\n",
      "363/363 [==============================] - 0s 569us/step - loss: 0.4578 - mae: 0.4857 - val_loss: 0.4413 - val_mae: 0.4671\n",
      "Epoch 10/20\n",
      "363/363 [==============================] - 0s 563us/step - loss: 0.4474 - mae: 0.4797 - val_loss: 0.4379 - val_mae: 0.4623\n",
      "Epoch 11/20\n",
      "363/363 [==============================] - 0s 583us/step - loss: 0.4393 - mae: 0.4744 - val_loss: 0.4396 - val_mae: 0.4638\n",
      "Epoch 12/20\n",
      "363/363 [==============================] - 0s 604us/step - loss: 0.4318 - mae: 0.4703 - val_loss: 0.4507 - val_mae: 0.4573\n",
      "Epoch 13/20\n",
      "363/363 [==============================] - 0s 602us/step - loss: 0.4261 - mae: 0.4674 - val_loss: 0.3997 - val_mae: 0.4517\n",
      "Epoch 14/20\n",
      "363/363 [==============================] - 0s 703us/step - loss: 0.4202 - mae: 0.4636 - val_loss: 0.3956 - val_mae: 0.4497\n",
      "Epoch 15/20\n",
      "363/363 [==============================] - 0s 566us/step - loss: 0.4155 - mae: 0.4613 - val_loss: 0.3916 - val_mae: 0.4464\n",
      "Epoch 16/20\n",
      "363/363 [==============================] - 0s 592us/step - loss: 0.4112 - mae: 0.4591 - val_loss: 0.3937 - val_mae: 0.4445\n",
      "Epoch 17/20\n",
      "363/363 [==============================] - 0s 585us/step - loss: 0.4077 - mae: 0.4569 - val_loss: 0.3809 - val_mae: 0.4390\n",
      "Epoch 18/20\n",
      "363/363 [==============================] - 0s 576us/step - loss: 0.4040 - mae: 0.4545 - val_loss: 0.3793 - val_mae: 0.4368\n",
      "Epoch 19/20\n",
      "363/363 [==============================] - 0s 643us/step - loss: 0.4004 - mae: 0.4521 - val_loss: 0.3850 - val_mae: 0.4369\n",
      "Epoch 20/20\n",
      "363/363 [==============================] - 0s 609us/step - loss: 0.3980 - mae: 0.4508 - val_loss: 0.3809 - val_mae: 0.4368\n"
     ]
    }
   ],
   "source": [
    "model_history = model.fit(x_train, y_train, epochs = 20,\n",
    "                         validation_data = (x_valid, y_valid))"
   ]
  },
  {
   "cell_type": "code",
   "execution_count": 13,
   "id": "c3ee8589",
   "metadata": {},
   "outputs": [
    {
     "data": {
      "text/plain": [
       "{'loss': [1.8866397142410278,\n",
       "  0.6577127575874329,\n",
       "  0.5934185981750488,\n",
       "  0.5557191967964172,\n",
       "  0.5271904468536377,\n",
       "  0.5032975673675537,\n",
       "  0.48535558581352234,\n",
       "  0.47091811895370483,\n",
       "  0.45779934525489807,\n",
       "  0.4474469721317291,\n",
       "  0.4393136501312256,\n",
       "  0.43176087737083435,\n",
       "  0.4260515868663788,\n",
       "  0.42017653584480286,\n",
       "  0.41549986600875854,\n",
       "  0.4111650586128235,\n",
       "  0.4077068865299225,\n",
       "  0.4039528965950012,\n",
       "  0.4004494547843933,\n",
       "  0.3979603350162506],\n",
       " 'mae': [0.9900256991386414,\n",
       "  0.6041510105133057,\n",
       "  0.5618006587028503,\n",
       "  0.5398454070091248,\n",
       "  0.5237293839454651,\n",
       "  0.5112562775611877,\n",
       "  0.5010154247283936,\n",
       "  0.492448091506958,\n",
       "  0.4857262969017029,\n",
       "  0.47973746061325073,\n",
       "  0.4744163453578949,\n",
       "  0.4703480303287506,\n",
       "  0.46740880608558655,\n",
       "  0.46360209584236145,\n",
       "  0.461266428232193,\n",
       "  0.4591343402862549,\n",
       "  0.4568699896335602,\n",
       "  0.45453646779060364,\n",
       "  0.4521065056324005,\n",
       "  0.45083147287368774],\n",
       " 'val_loss': [0.7126054167747498,\n",
       "  0.6880087852478027,\n",
       "  0.5803284645080566,\n",
       "  0.5166085362434387,\n",
       "  0.4895075559616089,\n",
       "  0.49507936835289,\n",
       "  0.48612502217292786,\n",
       "  0.45538002252578735,\n",
       "  0.441336989402771,\n",
       "  0.4378639757633209,\n",
       "  0.4396442174911499,\n",
       "  0.4506688117980957,\n",
       "  0.3997235596179962,\n",
       "  0.39558935165405273,\n",
       "  0.391572505235672,\n",
       "  0.3936830759048462,\n",
       "  0.38094857335090637,\n",
       "  0.37934744358062744,\n",
       "  0.3850174844264984,\n",
       "  0.38094642758369446],\n",
       " 'val_mae': [0.6368111968040466,\n",
       "  0.5703656077384949,\n",
       "  0.5351505279541016,\n",
       "  0.5206613540649414,\n",
       "  0.5022227168083191,\n",
       "  0.4933752119541168,\n",
       "  0.4838489592075348,\n",
       "  0.47527745366096497,\n",
       "  0.46705931425094604,\n",
       "  0.46234601736068726,\n",
       "  0.46377918124198914,\n",
       "  0.4572649896144867,\n",
       "  0.45166537165641785,\n",
       "  0.4496610760688782,\n",
       "  0.446370005607605,\n",
       "  0.4444963037967682,\n",
       "  0.43897414207458496,\n",
       "  0.43681108951568604,\n",
       "  0.4369050860404968,\n",
       "  0.4367615878582001]}"
      ]
     },
     "execution_count": 13,
     "metadata": {},
     "output_type": "execute_result"
    }
   ],
   "source": [
    "model_history.history"
   ]
  },
  {
   "cell_type": "code",
   "execution_count": 14,
   "id": "9f053a2e",
   "metadata": {},
   "outputs": [
    {
     "name": "stdout",
     "output_type": "stream",
     "text": [
      "162/162 [==============================] - 0s 400us/step - loss: 0.3942 - mae: 0.4502\n"
     ]
    }
   ],
   "source": [
    "mae_test = model.evaluate(x_test, y_test) "
   ]
  },
  {
   "cell_type": "code",
   "execution_count": 15,
   "id": "033d9798",
   "metadata": {},
   "outputs": [
    {
     "data": {
      "text/plain": [
       "[0.39424535632133484, 0.4502214193344116]"
      ]
     },
     "execution_count": 15,
     "metadata": {},
     "output_type": "execute_result"
    }
   ],
   "source": [
    "mae_test"
   ]
  },
  {
   "cell_type": "markdown",
   "id": "5892c954",
   "metadata": {},
   "source": [
    "As we can see the output the the first value is the loss and the second value is the accuracy."
   ]
  },
  {
   "cell_type": "markdown",
   "id": "9af17c1a",
   "metadata": {},
   "source": [
    "### Visualization of Accuracy Score with each Epochs"
   ]
  },
  {
   "cell_type": "code",
   "execution_count": 16,
   "id": "03e24a9d",
   "metadata": {},
   "outputs": [
    {
     "data": {
      "image/png": "[encoded data removed]",
      "text/plain": [
       "<Figure size 576x360 with 1 Axes>"
      ]
     },
     "metadata": {
      "needs_background": "light"
     },
     "output_type": "display_data"
    }
   ],
   "source": [
    "pd.DataFrame(model_history.history).plot(figsize = (8, 5))\n",
    "plt.grid(True)\n",
    "plt.gca().set_ylim(0, 1)\n",
    "plt.show()"
   ]
  },
  {
   "cell_type": "markdown",
   "id": "3ce18426",
   "metadata": {},
   "source": [
    "We can notice that this graph is still going down and if we run more epochs the graph will further decrease the losses and increase the accuracy of our model."
   ]
  },
  {
   "cell_type": "markdown",
   "id": "e6f7aaea",
   "metadata": {},
   "source": [
    "If we run for more epochs the model will start from 21st epochs."
   ]
  },
  {
   "cell_type": "markdown",
   "id": "2b2822b1",
   "metadata": {},
   "source": []
  },
  {
   "cell_type": "markdown",
   "id": "2c6867c6",
   "metadata": {},
   "source": [
    "### Let's now see how to predict the probabilities and how to predict the classes on new unseen data."
   ]
  },
  {
   "cell_type": "code",
   "execution_count": 17,
   "id": "44f7b0a3",
   "metadata": {},
   "outputs": [],
   "source": [
    "x_new = x_test[:3]"
   ]
  },
  {
   "cell_type": "code",
   "execution_count": 18,
   "id": "8142b113",
   "metadata": {},
   "outputs": [],
   "source": [
    "y_pred = model.predict(x_new)"
   ]
  },
  {
   "cell_type": "code",
   "execution_count": 19,
   "id": "fe03c945",
   "metadata": {},
   "outputs": [
    {
     "name": "stdout",
     "output_type": "stream",
     "text": [
      "[[0.5328768]\n",
      " [1.8915398]\n",
      " [3.404087 ]]\n"
     ]
    }
   ],
   "source": [
    "print(y_pred)"
   ]
  },
  {
   "cell_type": "code",
   "execution_count": 20,
   "id": "11383ce5",
   "metadata": {},
   "outputs": [
    {
     "name": "stdout",
     "output_type": "stream",
     "text": [
      "[0.477   0.458   5.00001]\n"
     ]
    }
   ],
   "source": [
    "print(y_test[:3])"
   ]
  },
  {
   "cell_type": "code",
   "execution_count": null,
   "id": "c6807544",
   "metadata": {},
   "outputs": [],
   "source": []
  },
  {
   "cell_type": "code",
   "execution_count": null,
   "id": "6f6c7b2b",
   "metadata": {},
   "outputs": [],
   "source": []
  },
  {
   "cell_type": "code",
   "execution_count": null,
   "id": "01a5bf22",
   "metadata": {},
   "outputs": [],
   "source": []
  },
  {
   "cell_type": "markdown",
   "id": "2674dea1",
   "metadata": {},
   "source": [
    "## Now, let's create functional API architecture for the same dataset."
   ]
  },
  {
   "cell_type": "markdown",
   "id": "04d5f110",
   "metadata": {},
   "source": [
    "As we using the same dataset we need to delete the above sequential model and start new session for functional API."
   ]
  },
  {
   "cell_type": "code",
   "execution_count": 21,
   "id": "7a25497f",
   "metadata": {},
   "outputs": [],
   "source": [
    "del model"
   ]
  },
  {
   "cell_type": "code",
   "execution_count": 22,
   "id": "72a9e1ac",
   "metadata": {},
   "outputs": [],
   "source": [
    "keras.backend.clear_session()"
   ]
  },
  {
   "cell_type": "markdown",
   "id": "5d76e185",
   "metadata": {},
   "source": [
    "# Functional API"
   ]
  },
  {
   "cell_type": "markdown",
   "id": "7f584134",
   "metadata": {},
   "source": [
    "Not all neural network are simply sequential. Some may have complex topologies. Some may have multiple inputs and/or multiple outputs. For example, a Wide and Deep neural network connects all or part of the inputs directly to the output layers."
   ]
  },
  {
   "cell_type": "markdown",
   "id": "389d634b",
   "metadata": {},
   "source": [
    "![image](data:image/png;base64,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)"
   ]
  },
  {
   "cell_type": "code",
   "execution_count": 23,
   "id": "71bb7430",
   "metadata": {},
   "outputs": [],
   "source": [
    "input_ = keras.layers.Input(shape = x_train.shape[1:])\n",
    "hidden1 = keras.layers.Dense(30, activation = \"relu\")(input_)\n",
    "hidden2 = keras.layers.Dense(30, activation = \"relu\")(hidden1)\n",
    "concat = keras.layers.concatenate([input_, hidden2])\n",
    "output = keras.layers.Dense(1)(concat)"
   ]
  },
  {
   "cell_type": "markdown",
   "id": "23297fad",
   "metadata": {},
   "source": [
    "Now let's combine all this layers and create model."
   ]
  },
  {
   "cell_type": "code",
   "execution_count": 24,
   "id": "35e4b79a",
   "metadata": {},
   "outputs": [],
   "source": [
    "model = keras.models.Model(inputs = [input_], outputs = [output])"
   ]
  },
  {
   "cell_type": "code",
   "execution_count": 25,
   "id": "aee279e3",
   "metadata": {},
   "outputs": [
    {
     "name": "stdout",
     "output_type": "stream",
     "text": [
      "Model: \"functional_1\"\n",
      "__________________________________________________________________________________________________\n",
      "Layer (type)                    Output Shape         Param #     Connected to                     \n",
      "==================================================================================================\n",
      "input_1 (InputLayer)            [(None, 8)]          0                                            \n",
      "__________________________________________________________________________________________________\n",
      "dense (Dense)                   (None, 30)           270         input_1[0][0]                    \n",
      "__________________________________________________________________________________________________\n",
      "dense_1 (Dense)                 (None, 30)           930         dense[0][0]                      \n",
      "__________________________________________________________________________________________________\n",
      "concatenate (Concatenate)       (None, 38)           0           input_1[0][0]                    \n",
      "                                                                 dense_1[0][0]                    \n",
      "__________________________________________________________________________________________________\n",
      "dense_2 (Dense)                 (None, 1)            39          concatenate[0][0]                \n",
      "==================================================================================================\n",
      "Total params: 1,239\n",
      "Trainable params: 1,239\n",
      "Non-trainable params: 0\n",
      "__________________________________________________________________________________________________\n"
     ]
    }
   ],
   "source": [
    "model.summary()"
   ]
  },
  {
   "cell_type": "markdown",
   "id": "4e57101b",
   "metadata": {},
   "source": [
    "## Compiling Model"
   ]
  },
  {
   "cell_type": "code",
   "execution_count": 26,
   "id": "a38f5b48",
   "metadata": {},
   "outputs": [],
   "source": [
    "model.compile(loss = \"mean_squared_error\",\n",
    "             optimizer = keras.optimizers.SGD(lr = 1e-3),\n",
    "             metrics = [\"mae\"])"
   ]
  },
  {
   "cell_type": "code",
   "execution_count": 27,
   "id": "a5a4b7d8",
   "metadata": {},
   "outputs": [
    {
     "name": "stdout",
     "output_type": "stream",
     "text": [
      "Epoch 1/40\n",
      "327/363 [==========================>...] - ETA: 0s - loss: 1.7927 - mae: 0.9203WARNING:tensorflow:Callbacks method `on_test_batch_end` is slow compared to the batch time (batch time: 0.0000s vs `on_test_batch_end` time: 0.0010s). Check your callbacks.\n",
      "363/363 [==============================] - 0s 783us/step - loss: 1.6920 - mae: 0.8893 - val_loss: 0.8798 - val_mae: 0.6026\n",
      "Epoch 2/40\n",
      "363/363 [==============================] - 0s 650us/step - loss: 0.6836 - mae: 0.5994 - val_loss: 0.6420 - val_mae: 0.5764\n",
      "Epoch 3/40\n",
      "363/363 [==============================] - 0s 602us/step - loss: 0.6265 - mae: 0.5775 - val_loss: 0.5891 - val_mae: 0.5503\n",
      "Epoch 4/40\n",
      "363/363 [==============================] - 0s 598us/step - loss: 0.5877 - mae: 0.5581 - val_loss: 0.5455 - val_mae: 0.5343\n",
      "Epoch 5/40\n",
      "363/363 [==============================] - 0s 588us/step - loss: 0.5566 - mae: 0.5421 - val_loss: 0.5409 - val_mae: 0.5202\n",
      "Epoch 6/40\n",
      "363/363 [==============================] - 0s 593us/step - loss: 0.5312 - mae: 0.5298 - val_loss: 0.4903 - val_mae: 0.5046\n",
      "Epoch 7/40\n",
      "363/363 [==============================] - 0s 585us/step - loss: 0.5108 - mae: 0.5186 - val_loss: 0.4728 - val_mae: 0.4962\n",
      "Epoch 8/40\n",
      "363/363 [==============================] - 0s 600us/step - loss: 0.4952 - mae: 0.5096 - val_loss: 0.5017 - val_mae: 0.4921\n",
      "Epoch 9/40\n",
      "363/363 [==============================] - 0s 596us/step - loss: 0.4802 - mae: 0.5025 - val_loss: 0.4511 - val_mae: 0.4811\n",
      "Epoch 10/40\n",
      "363/363 [==============================] - 0s 593us/step - loss: 0.4685 - mae: 0.4959 - val_loss: 0.4330 - val_mae: 0.4735\n",
      "Epoch 11/40\n",
      "363/363 [==============================] - 0s 604us/step - loss: 0.4590 - mae: 0.4897 - val_loss: 0.4991 - val_mae: 0.4778\n",
      "Epoch 12/40\n",
      "363/363 [==============================] - 0s 598us/step - loss: 0.4502 - mae: 0.4851 - val_loss: 0.4179 - val_mae: 0.4658\n",
      "Epoch 13/40\n",
      "363/363 [==============================] - 0s 593us/step - loss: 0.4433 - mae: 0.4811 - val_loss: 0.4409 - val_mae: 0.4658\n",
      "Epoch 14/40\n",
      "363/363 [==============================] - 0s 602us/step - loss: 0.4363 - mae: 0.4766 - val_loss: 0.4239 - val_mae: 0.4621\n",
      "Epoch 15/40\n",
      "363/363 [==============================] - 0s 588us/step - loss: 0.4306 - mae: 0.4736 - val_loss: 0.4480 - val_mae: 0.4601\n",
      "Epoch 16/40\n",
      "363/363 [==============================] - 0s 593us/step - loss: 0.4253 - mae: 0.4703 - val_loss: 0.4113 - val_mae: 0.4550\n",
      "Epoch 17/40\n",
      "363/363 [==============================] - 0s 596us/step - loss: 0.4213 - mae: 0.4676 - val_loss: 0.4454 - val_mae: 0.4538\n",
      "Epoch 18/40\n",
      "363/363 [==============================] - 0s 588us/step - loss: 0.4168 - mae: 0.4650 - val_loss: 0.4538 - val_mae: 0.4518\n",
      "Epoch 19/40\n",
      "363/363 [==============================] - 0s 599us/step - loss: 0.4126 - mae: 0.4616 - val_loss: 0.4084 - val_mae: 0.4477\n",
      "Epoch 20/40\n",
      "363/363 [==============================] - 0s 622us/step - loss: 0.4096 - mae: 0.4600 - val_loss: 0.4581 - val_mae: 0.4505\n",
      "Epoch 21/40\n",
      "363/363 [==============================] - 0s 604us/step - loss: 0.4060 - mae: 0.4573 - val_loss: 0.4267 - val_mae: 0.4487\n",
      "Epoch 22/40\n",
      "363/363 [==============================] - 0s 621us/step - loss: 0.4029 - mae: 0.4559 - val_loss: 0.4677 - val_mae: 0.4485\n",
      "Epoch 23/40\n",
      "363/363 [==============================] - 0s 610us/step - loss: 0.4000 - mae: 0.4542 - val_loss: 0.3940 - val_mae: 0.4390\n",
      "Epoch 24/40\n",
      "363/363 [==============================] - 0s 624us/step - loss: 0.3972 - mae: 0.4515 - val_loss: 0.4277 - val_mae: 0.4410\n",
      "Epoch 25/40\n",
      "363/363 [==============================] - 0s 709us/step - loss: 0.3946 - mae: 0.4502 - val_loss: 0.4414 - val_mae: 0.4412\n",
      "Epoch 26/40\n",
      "363/363 [==============================] - 0s 681us/step - loss: 0.3925 - mae: 0.4488 - val_loss: 0.4365 - val_mae: 0.4393\n",
      "Epoch 27/40\n",
      "363/363 [==============================] - 0s 692us/step - loss: 0.3905 - mae: 0.4472 - val_loss: 0.3854 - val_mae: 0.4354\n",
      "Epoch 28/40\n",
      "363/363 [==============================] - 0s 673us/step - loss: 0.3885 - mae: 0.4455 - val_loss: 0.4330 - val_mae: 0.4401\n",
      "Epoch 29/40\n",
      "363/363 [==============================] - 0s 629us/step - loss: 0.3867 - mae: 0.4448 - val_loss: 0.4135 - val_mae: 0.4373\n",
      "Epoch 30/40\n",
      "363/363 [==============================] - 0s 591us/step - loss: 0.3848 - mae: 0.4435 - val_loss: 0.4344 - val_mae: 0.4358\n",
      "Epoch 31/40\n",
      "363/363 [==============================] - 0s 599us/step - loss: 0.3830 - mae: 0.4420 - val_loss: 0.4016 - val_mae: 0.4332\n",
      "Epoch 32/40\n",
      "363/363 [==============================] - 0s 600us/step - loss: 0.3816 - mae: 0.4410 - val_loss: 0.4459 - val_mae: 0.4380\n",
      "Epoch 33/40\n",
      "363/363 [==============================] - 0s 598us/step - loss: 0.3805 - mae: 0.4408 - val_loss: 0.3867 - val_mae: 0.4319\n",
      "Epoch 34/40\n",
      "363/363 [==============================] - 0s 602us/step - loss: 0.3787 - mae: 0.4393 - val_loss: 0.3923 - val_mae: 0.4323\n",
      "Epoch 35/40\n",
      "363/363 [==============================] - 0s 596us/step - loss: 0.3776 - mae: 0.4383 - val_loss: 0.4512 - val_mae: 0.4358\n",
      "Epoch 36/40\n",
      "363/363 [==============================] - 0s 596us/step - loss: 0.3763 - mae: 0.4379 - val_loss: 0.3639 - val_mae: 0.4268\n",
      "Epoch 37/40\n",
      "363/363 [==============================] - 0s 596us/step - loss: 0.3751 - mae: 0.4365 - val_loss: 0.4068 - val_mae: 0.4309\n",
      "Epoch 38/40\n",
      "363/363 [==============================] - 0s 585us/step - loss: 0.3741 - mae: 0.4362 - val_loss: 0.3776 - val_mae: 0.4276\n",
      "Epoch 39/40\n",
      "363/363 [==============================] - 0s 578us/step - loss: 0.3728 - mae: 0.4352 - val_loss: 0.3774 - val_mae: 0.4266\n",
      "Epoch 40/40\n",
      "363/363 [==============================] - 0s 617us/step - loss: 0.3716 - mae: 0.4345 - val_loss: 0.3917 - val_mae: 0.4260\n"
     ]
    }
   ],
   "source": [
    "model_history = model.fit(x_train, y_train, epochs = 40,\n",
    "                         validation_data = (x_valid, y_valid))"
   ]
  },
  {
   "cell_type": "code",
   "execution_count": 28,
   "id": "af49f4ec",
   "metadata": {},
   "outputs": [
    {
     "data": {
      "text/plain": [
       "{'loss': [1.6920058727264404,\n",
       "  0.6836402416229248,\n",
       "  0.626488208770752,\n",
       "  0.5877465605735779,\n",
       "  0.5565561056137085,\n",
       "  0.5311981439590454,\n",
       "  0.5107864141464233,\n",
       "  0.4951668083667755,\n",
       "  0.48022276163101196,\n",
       "  0.4684668779373169,\n",
       "  0.4589638411998749,\n",
       "  0.4502205550670624,\n",
       "  0.4432658851146698,\n",
       "  0.43632543087005615,\n",
       "  0.4306245744228363,\n",
       "  0.4253448247909546,\n",
       "  0.42129331827163696,\n",
       "  0.4168177843093872,\n",
       "  0.4126453101634979,\n",
       "  0.40958571434020996,\n",
       "  0.4059634208679199,\n",
       "  0.40294399857521057,\n",
       "  0.4000455439090729,\n",
       "  0.3971884846687317,\n",
       "  0.3946215510368347,\n",
       "  0.3924905061721802,\n",
       "  0.3904934525489807,\n",
       "  0.38845309615135193,\n",
       "  0.38671210408210754,\n",
       "  0.38484567403793335,\n",
       "  0.382953941822052,\n",
       "  0.3815852701663971,\n",
       "  0.3805288076400757,\n",
       "  0.37870272994041443,\n",
       "  0.3775632083415985,\n",
       "  0.3763015866279602,\n",
       "  0.37508344650268555,\n",
       "  0.37408941984176636,\n",
       "  0.3728184998035431,\n",
       "  0.37164586782455444],\n",
       " 'mae': [0.8892966508865356,\n",
       "  0.5993583798408508,\n",
       "  0.577479362487793,\n",
       "  0.5581423044204712,\n",
       "  0.542133629322052,\n",
       "  0.5297517776489258,\n",
       "  0.518592119216919,\n",
       "  0.5096290111541748,\n",
       "  0.502535879611969,\n",
       "  0.49592792987823486,\n",
       "  0.4896959960460663,\n",
       "  0.4850703179836273,\n",
       "  0.48114877939224243,\n",
       "  0.47657036781311035,\n",
       "  0.47358450293540955,\n",
       "  0.4702606499195099,\n",
       "  0.4675999581813812,\n",
       "  0.4649639427661896,\n",
       "  0.46159064769744873,\n",
       "  0.46004417538642883,\n",
       "  0.45733100175857544,\n",
       "  0.4559226632118225,\n",
       "  0.45419758558273315,\n",
       "  0.45146194100379944,\n",
       "  0.4502381384372711,\n",
       "  0.4487718939781189,\n",
       "  0.4472378194332123,\n",
       "  0.4455063045024872,\n",
       "  0.4448150098323822,\n",
       "  0.4435017704963684,\n",
       "  0.44200778007507324,\n",
       "  0.44095417857170105,\n",
       "  0.44078654050827026,\n",
       "  0.43926259875297546,\n",
       "  0.4382910430431366,\n",
       "  0.437866747379303,\n",
       "  0.43653440475463867,\n",
       "  0.4362226128578186,\n",
       "  0.43521836400032043,\n",
       "  0.434486448764801],\n",
       " 'val_loss': [0.879798412322998,\n",
       "  0.6420255303382874,\n",
       "  0.589079737663269,\n",
       "  0.54546719789505,\n",
       "  0.5408935546875,\n",
       "  0.4903125464916229,\n",
       "  0.4728316068649292,\n",
       "  0.501725971698761,\n",
       "  0.4510645270347595,\n",
       "  0.4330178201198578,\n",
       "  0.4991108775138855,\n",
       "  0.4179282784461975,\n",
       "  0.44088947772979736,\n",
       "  0.4238838851451874,\n",
       "  0.44802573323249817,\n",
       "  0.41133469343185425,\n",
       "  0.4454157054424286,\n",
       "  0.4537522494792938,\n",
       "  0.40842992067337036,\n",
       "  0.45807087421417236,\n",
       "  0.42670390009880066,\n",
       "  0.4677491784095764,\n",
       "  0.3939913213253021,\n",
       "  0.42766517400741577,\n",
       "  0.4414198696613312,\n",
       "  0.43654635548591614,\n",
       "  0.3854181170463562,\n",
       "  0.43296656012535095,\n",
       "  0.41352131962776184,\n",
       "  0.4344019591808319,\n",
       "  0.4016211926937103,\n",
       "  0.44587454199790955,\n",
       "  0.38666361570358276,\n",
       "  0.3922908902168274,\n",
       "  0.45124000310897827,\n",
       "  0.36393219232559204,\n",
       "  0.40683016180992126,\n",
       "  0.37758561968803406,\n",
       "  0.37742453813552856,\n",
       "  0.39174848794937134],\n",
       " 'val_mae': [0.6026318073272705,\n",
       "  0.5763723850250244,\n",
       "  0.5502772331237793,\n",
       "  0.534281313419342,\n",
       "  0.5201656818389893,\n",
       "  0.5045694708824158,\n",
       "  0.4961996078491211,\n",
       "  0.49206575751304626,\n",
       "  0.4810589551925659,\n",
       "  0.4734765291213989,\n",
       "  0.477807879447937,\n",
       "  0.4658489227294922,\n",
       "  0.4657770097255707,\n",
       "  0.4620634913444519,\n",
       "  0.4600689709186554,\n",
       "  0.4549534022808075,\n",
       "  0.4538327157497406,\n",
       "  0.45184817910194397,\n",
       "  0.447709858417511,\n",
       "  0.45054298639297485,\n",
       "  0.44869187474250793,\n",
       "  0.44846779108047485,\n",
       "  0.43899068236351013,\n",
       "  0.44097667932510376,\n",
       "  0.4411579668521881,\n",
       "  0.4393341541290283,\n",
       "  0.4353789985179901,\n",
       "  0.4401053786277771,\n",
       "  0.43728482723236084,\n",
       "  0.43582433462142944,\n",
       "  0.4331952929496765,\n",
       "  0.43800055980682373,\n",
       "  0.43194642663002014,\n",
       "  0.43225976824760437,\n",
       "  0.43577852845191956,\n",
       "  0.4268355071544647,\n",
       "  0.43091410398483276,\n",
       "  0.42763426899909973,\n",
       "  0.42661288380622864,\n",
       "  0.42602092027664185]}"
      ]
     },
     "execution_count": 28,
     "metadata": {},
     "output_type": "execute_result"
    }
   ],
   "source": [
    "model_history.history"
   ]
  },
  {
   "cell_type": "code",
   "execution_count": 29,
   "id": "a5612ce8",
   "metadata": {},
   "outputs": [
    {
     "name": "stdout",
     "output_type": "stream",
     "text": [
      "162/162 [==============================] - 0s 376us/step - loss: 0.3685 - mae: 0.4314\n"
     ]
    }
   ],
   "source": [
    "mae_test = model.evaluate(x_test, y_test) "
   ]
  },
  {
   "cell_type": "code",
   "execution_count": 30,
   "id": "19af6c59",
   "metadata": {},
   "outputs": [
    {
     "data": {
      "text/plain": [
       "[0.3684528172016144, 0.431399941444397]"
      ]
     },
     "execution_count": 30,
     "metadata": {},
     "output_type": "execute_result"
    }
   ],
   "source": [
    "mae_test"
   ]
  },
  {
   "cell_type": "markdown",
   "id": "1e8d5393",
   "metadata": {},
   "source": [
    "So, when we compare it with MLP(Multilayer perceptron), MLP model is performing well than Wide and Deep Neural model."
   ]
  },
  {
   "cell_type": "markdown",
   "id": "8c310f55",
   "metadata": {},
   "source": [
    "### Visualization of Accuracy Score with each Epochs"
   ]
  },
  {
   "cell_type": "code",
   "execution_count": 31,
   "id": "d5532953",
   "metadata": {},
   "outputs": [
    {
     "data": {
      "image/png": "[encoded data removed]",
      "text/plain": [
       "<Figure size 576x360 with 1 Axes>"
      ]
     },
     "metadata": {
      "needs_background": "light"
     },
     "output_type": "display_data"
    }
   ],
   "source": [
    "pd.DataFrame(model_history.history).plot(figsize = (8, 5))\n",
    "plt.grid(True)\n",
    "plt.gca().set_ylim(0, 1)\n",
    "plt.show()"
   ]
  },
  {
   "cell_type": "markdown",
   "id": "3a0f4ccc",
   "metadata": {},
   "source": [
    "As we can see val_loss and mae is further decreasing, so there is a scope of further improvement in accuracy of the model."
   ]
  },
  {
   "cell_type": "markdown",
   "id": "98a2d51e",
   "metadata": {},
   "source": [
    "So, we can run for 40 more ecophs to improve the accuracy and performance of the model."
   ]
  },
  {
   "cell_type": "code",
   "execution_count": null,
   "id": "38f4ceae",
   "metadata": {},
   "outputs": [],
   "source": []
  }
 ],
 "metadata": {
  "kernelspec": {
   "display_name": "Python 3 (ipykernel)",
   "language": "python",
   "name": "python3"
  },
  "language_info": {
   "codemirror_mode": {
    "name": "ipython",
    "version": 3
   },
   "file_extension": ".py",
   "mimetype": "text/x-python",
   "name": "python",
   "nbconvert_exporter": "python",
   "pygments_lexer": "ipython3",
   "version": "3.8.12"
  }
 },
 "nbformat": 4,
 "nbformat_minor": 5
}
